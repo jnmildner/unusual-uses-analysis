{
 "cells": [
  {
   "cell_type": "code",
   "execution_count": 1,
   "metadata": {
    "collapsed": true,
    "pycharm": {
     "is_executing": false
    }
   },
   "outputs": [],
   "source": [
    "import pandas as pd\n",
    "import spacy\n",
    "import numpy as np\n",
    "from transform_data_by_response import transform_data_by_response\n",
    "from fluency import calc_fluency\n",
    "from flexibility_elaboration import calc_flexibility_and_elaboration, calc_flexibility_and_elaboration_multi_target\n",
    "from originality import calc_originality"
   ]
  },
  {
   "cell_type": "code",
   "execution_count": 2,
   "outputs": [],
   "source": [
    "nlp = spacy.load('en_vectors_web_lg')\n"
   ],
   "metadata": {
    "collapsed": false,
    "pycharm": {
     "name": "#%%\n",
     "is_executing": false
    }
   }
  },
  {
   "cell_type": "code",
   "execution_count": 3,
   "outputs": [],
   "source": [
    "def z_score(array):\n",
    "     return (array - np.nanmean(array)) / np.std(array)\n"
   ],
   "metadata": {
    "collapsed": false,
    "pycharm": {
     "name": "#%%\n",
     "is_executing": false
    }
   }
  },
  {
   "cell_type": "markdown",
   "source": [
    "# unusual uses\n",
    "\n",
    "variable unusualUses_1 holds \"pen\" data, unusualUses_2 has \"megaphone\" data. \n",
    "Separate these for fall and spring datasets."
   ],
   "metadata": {
    "collapsed": false,
    "pycharm": {
     "name": "#%% md\n"
    }
   }
  },
  {
   "cell_type": "code",
   "execution_count": 2,
   "outputs": [],
   "source": [
    "target_1 = u'pen'\n",
    "target_2 = u'megaphone'\n",
    "fall17_uu_raw = pd.read_csv('data/20190919_fall17_unusualUses.csv')\n",
    "fall17_uu_pen = transform_data_by_response(fall17_uu_raw, delimiter='/n', id_column='ID',\n",
    "                                           response_column='unusualUses_1')\n",
    "fall17_uu_meg = transform_data_by_response(fall17_uu_raw, delimiter='/n', id_column='ID',\n",
    "                                           response_column='unusualUses_2')\n",
    "spring18_uu_raw = pd.read_csv('data/20190919_spring18_unusualUses.csv')\n",
    "spring18_uu_pen = transform_data_by_response(spring18_uu_raw, delimiter='/n', id_column='ID',\n",
    "                                             response_column='unusualUses_1')\n",
    "spring18_uu_meg = transform_data_by_response(spring18_uu_raw, delimiter='/n', id_column='ID',\n",
    "                                             response_column='unusualUses_2')\n",
    "\n",
    "out_data = calc_all_creativity(fall17_uu_pen, target_1, nlp=nlp, output_prefix='uu_1_')\n",
    "\n",
    "fall17_pen_results = pd.DataFrame({'responseID': fall17_uu_pen.responseID, 'ID': fall17_uu_pen.ID})\n",
    "spring18_pen_results = pd.DataFrame({'responseID': spring18_uu_pen.responseID, 'ID': spring18_uu_pen.ID})\n",
    "fall17_meg_results = pd.DataFrame({'responseID': fall17_uu_meg.responseID, 'ID': fall17_uu_meg.ID})\n",
    "spring18_meg_results = pd.DataFrame({'responseID': spring18_uu_pen.responseID, 'ID': spring18_uu_pen.ID})"
   ],
   "metadata": {
    "collapsed": false,
    "pycharm": {
     "name": "#%%\n",
     "is_executing": false
    }
   }
  },
  {
   "cell_type": "code",
   "execution_count": 4,
   "outputs": [
    {
     "name": "stdout",
     "text": [
      "correcting flexibility for word count...\nbootstrapping at word count 1\n",
      "bootstrapping at word count 2\n",
      "bootstrapping at word count 3\n",
      "bootstrapping at word count 4\n",
      "bootstrapping at word count 6\n",
      "bootstrapping at word count 5\n",
      "bootstrapping at word count 7\n",
      "bootstrapping at word count 8\n",
      "bootstrapping at word count 0\nbootstrapping at word count 9\n",
      "bootstrapping at word count 10\n",
      "bootstrapping at word count 12\n",
      "bootstrapping at word count 11\n"
     ],
     "output_type": "stream"
    }
   ],
   "source": [
    "fall17_pen_results['fluency'] = calc_fluency(fall17_uu_pen, nlp)\n",
    "fall17_pen_results[['clean_response', 'elaboration', 'flexibility']] = \\\n",
    "     calc_flexibility_and_elaboration(list(fall17_uu_pen.response), target_1, nlp)\n",
    "fall17_pen_results['originality'] = calc_originality(fall17_uu_pen.response)\n"
   ],
   "metadata": {
    "collapsed": false,
    "pycharm": {
     "name": "#%%\n",
     "is_executing": false
    }
   }
  },
  {
   "cell_type": "code",
   "execution_count": 5,
   "outputs": [
    {
     "name": "stdout",
     "text": [
      "correcting flexibility for word count...\nbootstrapping at word count 1\n",
      "bootstrapping at word count 2\n",
      "bootstrapping at word count 3\n",
      "bootstrapping at word count 4\n",
      "bootstrapping at word count 6\n",
      "bootstrapping at word count 5\n",
      "bootstrapping at word count 7\n",
      "bootstrapping at word count 9\n",
      "bootstrapping at word count 10\n",
      "bootstrapping at word count 0\nbootstrapping at word count 8\n"
     ],
     "output_type": "stream"
    }
   ],
   "source": [
    "fall17_meg_results['fluency'] = calc_fluency(fall17_uu_meg, nlp)\n",
    "fall17_meg_results[['clean_response', 'elaboration', 'flexibility']] = \\\n",
    "     calc_flexibility_and_elaboration(list(fall17_uu_meg.response), target_2, nlp)\n",
    "fall17_meg_results['originality'] = calc_originality(fall17_uu_meg.response)"
   ],
   "metadata": {
    "collapsed": false,
    "pycharm": {
     "name": "#%%\n",
     "is_executing": false
    }
   }
  },
  {
   "cell_type": "code",
   "execution_count": 6,
   "outputs": [],
   "source": [
    "fall17_pen_results['z_elaboration'] = z_score(fall17_pen_results.elaboration)\n",
    "fall17_pen_results['z_flexibility'] = z_score(fall17_pen_results.flexibility)\n",
    "fall17_pen_results['z_originality'] = z_score(fall17_pen_results.originality)\n",
    "fall17_meg_results['z_elaboration'] = z_score(fall17_meg_results.elaboration)\n",
    "fall17_meg_results['z_flexibility'] = z_score(fall17_meg_results.flexibility)\n",
    "fall17_meg_results['z_originality'] = z_score(fall17_meg_results.originality)\n",
    "\n",
    "fall17_creativity = pd.DataFrame({'ID': fall17_pen_results.ID.unique()})\n",
    "fall17_creativity['uu_1_elaboration'] = fall17_creativity.apply(\n",
    "    lambda row:\n",
    "        np.nanmean(fall17_pen_results.loc[fall17_pen_results.ID == row.ID, 'z_elaboration']),\n",
    "    axis=1\n",
    ")\n",
    "fall17_creativity['uu_2_elaboration'] = fall17_creativity.apply(\n",
    "    lambda row:\n",
    "        np.nanmean(fall17_meg_results.loc[fall17_meg_results.ID == row.ID, 'z_elaboration']),\n",
    "    axis=1\n",
    ")\n",
    "fall17_creativity['uu_1_flexibility'] = fall17_creativity.apply(\n",
    "    lambda row:\n",
    "        np.nanmean(fall17_pen_results.loc[fall17_pen_results.ID == row.ID, 'z_flexibility']),\n",
    "    axis=1\n",
    ")\n",
    "fall17_creativity['uu_2_flexibility'] = fall17_creativity.apply(\n",
    "    lambda row:\n",
    "        np.nanmean(fall17_meg_results.loc[fall17_meg_results.ID == row.ID, 'z_flexibility']),\n",
    "    axis=1\n",
    ")\n",
    "fall17_creativity['uu_1_originality'] = fall17_creativity.apply(\n",
    "    lambda row:\n",
    "        np.nanmean(fall17_pen_results.loc[fall17_pen_results.ID == row.ID, 'z_originality']),\n",
    "    axis=1\n",
    ")\n",
    "fall17_creativity['uu_2_originality'] = fall17_creativity.apply(\n",
    "    lambda row:\n",
    "        np.nanmean(fall17_meg_results.loc[fall17_meg_results.ID == row.ID, 'z_originality']),\n",
    "    axis=1\n",
    ")\n",
    "fall17_creativity['uu_1_raw_fluency'] = fall17_creativity.apply(\n",
    "    lambda row:\n",
    "        np.nanmean(fall17_pen_results.loc[fall17_pen_results.ID == row.ID, 'fluency']),\n",
    "    axis=1\n",
    ")\n",
    "fall17_creativity['uu_2_raw_fluency'] = fall17_creativity.apply(\n",
    "    lambda row:\n",
    "        np.nanmean(fall17_meg_results.loc[fall17_meg_results.ID == row.ID, 'fluency']),\n",
    "    axis=1\n",
    ")\n",
    "fall17_creativity['uu_1_fluency'] = z_score(fall17_creativity['uu_1_raw_fluency'])\n",
    "fall17_creativity['uu_2_fluency'] = z_score(fall17_creativity['uu_2_raw_fluency'])\n",
    "fall17_creativity['uu_1_creativity_score'] = fall17_creativity[['uu_1_elaboration', 'uu_1_flexibility', \n",
    "                                                                'uu_1_originality', 'uu_1_fluency']].mean(axis=1)\n",
    "fall17_creativity['uu_2_creativity_score'] = fall17_creativity[['uu_2_elaboration', 'uu_2_flexibility', \n",
    "                                                                'uu_2_originality', 'uu_2_fluency']].mean(axis=1)"
   ],
   "metadata": {
    "collapsed": false,
    "pycharm": {
     "name": "#%%\n",
     "is_executing": false
    }
   }
  },
  {
   "cell_type": "code",
   "execution_count": 7,
   "outputs": [],
   "source": [
    "#fall17_creativity.to_csv('output/20191017_fall17_unusual_uses.csv', index=False)"
   ],
   "metadata": {
    "collapsed": false,
    "pycharm": {
     "name": "#%%\n",
     "is_executing": false
    }
   }
  },
  {
   "cell_type": "markdown",
   "source": [
    "# Social Creativity\n",
    "\n",
    "## task B"
   ],
   "metadata": {
    "collapsed": false,
    "pycharm": {
     "name": "#%% md\n"
    }
   }
  },
  {
   "cell_type": "code",
   "execution_count": 4,
   "outputs": [],
   "source": [
    "fall17_sc_B_raw = pd.read_csv('data/20190919_fall17_creativeB_long.csv')\n",
    "fall17_sc_B_raw['trialID'] = fall17_sc_B_raw.ID + '_' + fall17_sc_B_raw.trial.map(str)\n",
    "fall17_sc_B = transform_data_by_response(fall17_sc_B_raw, delimiter='/n', id_column='trialID')\n",
    "fall17_sc_B['target_word'] = fall17_sc_B.apply(lambda row: \n",
    "                                               list(fall17_sc_B_raw.loc[fall17_sc_B_raw.trialID == row.ID, 'word'])[0],\n",
    "                                               axis=1)"
   ],
   "metadata": {
    "collapsed": false,
    "pycharm": {
     "name": "#%%\n",
     "is_executing": false
    }
   }
  },
  {
   "cell_type": "code",
   "execution_count": 5,
   "outputs": [
    {
     "name": "stdout",
     "text": [
      "correcting flexibility for word count...\nbootstrapping at word count 2\n",
      "bootstrapping at word count 3\n",
      "bootstrapping at word count 4\n",
      "bootstrapping at word count 5\n",
      "bootstrapping at word count 1\n",
      "bootstrapping at word count 0\nbootstrapping at word count 9\n",
      "bootstrapping at word count 6\n",
      "bootstrapping at word count 7\n",
      "bootstrapping at word count 8\n",
      "bootstrapping at word count 11\n",
      "bootstrapping at word count 10\n",
      "bootstrapping at word count 13\n",
      "bootstrapping at word count 16\n"
     ],
     "output_type": "stream"
    }
   ],
   "source": [
    "fall17_sc_B_results = pd.DataFrame({'responseID': fall17_sc_B.responseID, 'ID': fall17_sc_B.ID})\n",
    "fall17_sc_B_results['fluency'] = calc_fluency(fall17_sc_B, nlp)\n",
    "fall17_sc_B_results[['clean_response', 'elaboration', 'flexibility']] = \\\n",
    "     calc_flexibility_and_elaboration_multi_target(list(fall17_sc_B.response), list(fall17_sc_B.target_word), nlp)\n",
    "fall17_sc_B_results['originality'] = calc_originality(fall17_sc_B.response)"
   ],
   "metadata": {
    "collapsed": false,
    "pycharm": {
     "name": "#%%\n",
     "is_executing": false
    }
   }
  },
  {
   "cell_type": "code",
   "execution_count": 6,
   "outputs": [],
   "source": [
    "fall17_sc_B_results['z_elaboration'] = z_score(fall17_sc_B_results.elaboration)\n",
    "fall17_sc_B_results['z_flexibility'] = z_score(fall17_sc_B_results.flexibility)\n",
    "fall17_sc_B_results['z_originality'] = z_score(fall17_sc_B_results.originality)\n",
    "\n",
    "fall17_sc_B_final = pd.DataFrame({'ID': fall17_sc_B_results.ID.unique()})\n",
    "fall17_sc_B_final['sc_B_elaboration'] = fall17_sc_B_final.apply(\n",
    "    lambda row:\n",
    "        np.nanmean(fall17_sc_B_results.loc[fall17_sc_B_results.ID == row.ID, 'z_elaboration']),\n",
    "    axis=1\n",
    ")\n",
    "fall17_sc_B_final['sc_B_flexibility'] = fall17_sc_B_final.apply(\n",
    "    lambda row:\n",
    "        np.nanmean(fall17_sc_B_results.loc[fall17_sc_B_results.ID == row.ID, 'z_flexibility']),\n",
    "    axis=1\n",
    ")\n",
    "fall17_sc_B_final['sc_B_originality'] = fall17_sc_B_final.apply(\n",
    "    lambda row:\n",
    "        np.nanmean(fall17_sc_B_results.loc[fall17_sc_B_results.ID == row.ID, 'z_originality']),\n",
    "    axis=1\n",
    ")\n",
    "fall17_sc_B_final['sc_B_raw_fluency'] = fall17_sc_B_final.apply(\n",
    "    lambda row:\n",
    "        np.nanmean(fall17_sc_B_results.loc[fall17_sc_B_results.ID == row.ID, 'fluency']),\n",
    "    axis=1\n",
    ")\n",
    "fall17_sc_B_final['sc_B_fluency'] = z_score(fall17_sc_B_final['sc_B_raw_fluency'])\n",
    "fall17_sc_B_final['sc_B_creativity_score'] = fall17_sc_B_final[['sc_B_elaboration', 'sc_B_flexibility', \n",
    "                                                                'sc_B_originality', 'sc_B_fluency']].mean(axis=1)"
   ],
   "metadata": {
    "collapsed": false,
    "pycharm": {
     "name": "#%%\n",
     "is_executing": false
    }
   }
  },
  {
   "cell_type": "code",
   "execution_count": 7,
   "outputs": [],
   "source": [
    "#fall17_sc_B_final.to_csv('output/20191017_fall17_creativeB.csv', index=False)"
   ],
   "metadata": {
    "collapsed": false,
    "pycharm": {
     "name": "#%%\n",
     "is_executing": false
    }
   }
  }
 ],
 "metadata": {
  "kernelspec": {
   "display_name": "Python 3",
   "language": "python",
   "name": "python3"
  },
  "language_info": {
   "codemirror_mode": {
    "name": "ipython",
    "version": 2
   },
   "file_extension": ".py",
   "mimetype": "text/x-python",
   "name": "python",
   "nbconvert_exporter": "python",
   "pygments_lexer": "ipython2",
   "version": "2.7.6"
  },
  "pycharm": {
   "stem_cell": {
    "cell_type": "raw",
    "source": [],
    "metadata": {
     "collapsed": false
    }
   }
  }
 },
 "nbformat": 4,
 "nbformat_minor": 0
}